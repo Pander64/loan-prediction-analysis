{
 "cells": [
  {
   "cell_type": "markdown",
   "id": "amazing-sewing",
   "metadata": {},
   "source": [
    "# Modelo de Predicción de Estado de Impago Financiero"
   ]
  },
  {
   "cell_type": "markdown",
   "id": "limited-silly",
   "metadata": {},
   "source": [
    "###  1. Desarrollar un Modelo para calcular: \n",
    "*   La Probabilidad de Impago (Default) de un cliente [Variable Continua: 0.0 - 1.0]\n",
    "*   El estatus de default [Variable Binaria: Si=1, o No=0]\n",
    "\n",
    "\n",
    "### 2. Estimar el monto total(en unidad de dinero) de la cartera en perdida."
   ]
  },
  {
   "cell_type": "markdown",
   "id": "female-adobe",
   "metadata": {},
   "source": [
    "### Información del Data Set: \n",
    "\n",
    "* ID: ID de cada cliente\n",
    "* LIMIT_BAL: Importe del crédito concedido en dólares NT (incluye crédito individual y familiar/suplementario)\n",
    "* SEXO: Género (1=hombre, 2=mujer)\n",
    "* EDUCACIÓN: (0=?, 1=graduado_de_secundaria, 2=universidad, 3=secundaria, 4=otros, 5=desconocido, 6=desconocido)\n",
    "* MATRIMONIO: Estado civil (0=?,1=casado, 2=soltero, 3=otros)\n",
    "* EDAD: Edad en años\n",
    "* PAY_0: Estado de pago en septiembre de 2005 (-1=pagar debidamente, 1=retraso en el pago durante un mes, 2=retraso en el pago durante dos meses, ... 8=retraso en el pago durante ocho meses, 9=retraso en el pago durante nueve meses o más)\n",
    "* PAY_2: Estado de reembolso en agosto de 2005 (escala igual a la anterior)\n",
    "* PAY_3: situación de reembolso en julio de 2005 (escala igual a la anterior)\n",
    "* PAGO_4: Situación de reembolso en junio de 2005 (escala igual a la anterior)\n",
    "* PAY_5: Situación de reembolso en mayo de 2005 (escala igual a la anterior)\n",
    "* PAY_6: Estado de reembolso en abril de 2005 (escala igual a la anterior)\n",
    "* BILL_AMT1: Importe del extracto de la factura en septiembre de 2005 \n",
    "* BILL_AMT2: Importe del extracto de la factura en agosto de 2005 \n",
    "* BILL_AMT3: Importe del extracto de cuenta de julio de 2005 \n",
    "* BILL_AMT4: Importe del extracto de cuenta de junio de 2005 \n",
    "* BILL_AMT5: Importe del extracto de cuenta de mayo de 2005 \n",
    "* BILL_AMT6: Importe del extracto de cuenta de abril de 2005 \n",
    "* PAY_AMT1: Importe del pago anterior en septiembre de 2005 \n",
    "* PAY_AMT2: Importe del pago anterior en agosto de 2005 \n",
    "* PAY_AMT3: Importe del pago anterior en julio de 2005\n",
    "* PAY_AMT4: Importe del pago anterior en junio de 2005 \n",
    "* PAY_AMT5: Importe del pago anterior en mayo de 2005 \n",
    "* PAY_AMT6: Importe del pago anterior en abril de 2005 \n",
    "* default: Pago por defecto (1=sí, 0=no)"
   ]
  },
  {
   "cell_type": "code",
   "execution_count": 10,
   "id": "prime-dispatch",
   "metadata": {},
   "outputs": [],
   "source": [
    "# Librerias\n",
    "import numpy as np\n",
    "import matplotlib.pyplot as plt\n",
    "import pandas as pd\n",
    "%matplotlib inline"
   ]
  },
  {
   "cell_type": "markdown",
   "id": "recorded-graphic",
   "metadata": {},
   "source": [
    "## Data Preparation"
   ]
  },
  {
   "cell_type": "code",
   "execution_count": 20,
   "id": "trained-knock",
   "metadata": {},
   "outputs": [],
   "source": [
    "default = pd.read_csv('/home/pander/Documents/Banistmo/Analitics/PruebaBanistmo/default_dataset.csv')\n",
    "default.rename(columns=lambda x: x.lower(), inplace=True)\n",
    "# Valores base: mujer, otra_educación, no_casado\n",
    "default['graduado_de_secundaria'] = (default['education'] == 1).astype('int')\n",
    "default['universidad'] = (default['education'] == 2).astype('int')\n",
    "default['secundaria'] = (default['education'] == 3).astype('int')\n",
    "default.drop('education', axis=1, inplace=True)\n",
    "\n",
    "default['hombre'] = (default['sex']==1).astype('int')\n",
    "default.drop('sex', axis=1, inplace=True)\n",
    "\n",
    "default['casado'] = (default['marriage'] == 1).astype('int')\n",
    "default.drop('marriage', axis=1, inplace=True)\n",
    "\n",
    "default.rename(columns={'pay_0':'pay_1'}, inplace=True)\n",
    "\n",
    "# Para las características de pago si el <= 0 entonces significa que no se retrasó\n",
    "pay_features = ['pay_' + str(i) for i in range(1,7)]\n",
    "for p in pay_features:\n",
    "    default.loc[default[p]<=0, p] = 0"
   ]
  },
  {
   "cell_type": "markdown",
   "id": "exterior-duration",
   "metadata": {},
   "source": [
    "### Construir modelos utilizando todas las funciones"
   ]
  },
  {
   "cell_type": "code",
   "execution_count": 21,
   "id": "established-people",
   "metadata": {},
   "outputs": [],
   "source": [
    "from sklearn.model_selection import train_test_split\n",
    "from sklearn.metrics import accuracy_score, precision_score, recall_score, confusion_matrix, precision_recall_curve\n",
    "from sklearn.preprocessing import RobustScaler"
   ]
  },
  {
   "cell_type": "code",
   "execution_count": 22,
   "id": "light-sandwich",
   "metadata": {},
   "outputs": [],
   "source": [
    "target_name = 'default'\n",
    "X = default.drop('default', axis=1)\n",
    "robust_scaler = RobustScaler()\n",
    "X = robust_scaler.fit_transform(X)\n",
    "y = default[target_name]\n",
    "X_train, X_test, y_train, y_test = train_test_split(X, y, test_size=0.15, random_state=123, stratify=y)"
   ]
  },
  {
   "cell_type": "code",
   "execution_count": 23,
   "id": "fourth-thumb",
   "metadata": {},
   "outputs": [],
   "source": [
    "def CMatrix(CM, labels=['pay','default']):\n",
    "    df = pd.DataFrame(data=CM, index=labels, columns=labels)\n",
    "    df.index.name='TRUE'\n",
    "    df.columns.name='PREDICTION'\n",
    "    df.loc['Total'] = df.sum()\n",
    "    df['Total'] = df.sum(axis=1)\n",
    "    return df"
   ]
  },
  {
   "cell_type": "markdown",
   "id": "composite-porter",
   "metadata": {},
   "source": [
    "### Preparing a DataFrame for model analysis"
   ]
  },
  {
   "cell_type": "code",
   "execution_count": 24,
   "id": "absolute-communications",
   "metadata": {},
   "outputs": [],
   "source": [
    "# Marco de datos para las métricas de evaluación\n",
    "metrics = pd.DataFrame(index=['accuracy', 'precision', 'recall'], \n",
    "                      columns=['NULL','LogisticReg', 'ClassTree', 'NaiveBayes'])"
   ]
  },
  {
   "cell_type": "markdown",
   "id": "national-district",
   "metadata": {},
   "source": [
    "- Exactitud**: En general, la frecuencia con la que el modelo predice correctamente a los morosos y a los no morosos.\n",
    "- Precisión: Cuando el modelo predice **incumplidores**: ¿con qué frecuencia es correcto?\n",
    "- Recuperación**: La proporción de **impagos reales** que el modelo predice correctamente como tales\n",
    "\n",
    "#### ¿Qué métrica debería utilizar?\n",
    "\n",
    "- **Falso positivo**: Una persona que pagará predicha como morosa\n",
    "- **Falso Negativo**: Una persona que no paga predicho como pagador\n",
    "\n",
    "#### Los falsos negativos son peores => buscar un mejor recuerdo\n",
    "\n"
   ]
  },
  {
   "cell_type": "markdown",
   "id": "serious-raising",
   "metadata": {},
   "source": [
    "### El modelo nulo: predecir siempre la categoría más común"
   ]
  },
  {
   "cell_type": "code",
   "execution_count": 26,
   "id": "painted-nelson",
   "metadata": {},
   "outputs": [
    {
     "name": "stderr",
     "output_type": "stream",
     "text": [
      "/home/pander/anaconda3/envs/r_env/lib/python3.9/site-packages/sklearn/metrics/_classification.py:1245: UndefinedMetricWarning: Precision is ill-defined and being set to 0.0 due to no predicted samples. Use `zero_division` parameter to control this behavior.\n",
      "  _warn_prf(average, modifier, msg_start, len(result))\n"
     ]
    },
    {
     "data": {
      "text/html": [
       "<div>\n",
       "<style scoped>\n",
       "    .dataframe tbody tr th:only-of-type {\n",
       "        vertical-align: middle;\n",
       "    }\n",
       "\n",
       "    .dataframe tbody tr th {\n",
       "        vertical-align: top;\n",
       "    }\n",
       "\n",
       "    .dataframe thead th {\n",
       "        text-align: right;\n",
       "    }\n",
       "</style>\n",
       "<table border=\"1\" class=\"dataframe\">\n",
       "  <thead>\n",
       "    <tr style=\"text-align: right;\">\n",
       "      <th>PREDICTION</th>\n",
       "      <th>pay</th>\n",
       "      <th>default</th>\n",
       "      <th>Total</th>\n",
       "    </tr>\n",
       "    <tr>\n",
       "      <th>TRUE</th>\n",
       "      <th></th>\n",
       "      <th></th>\n",
       "      <th></th>\n",
       "    </tr>\n",
       "  </thead>\n",
       "  <tbody>\n",
       "    <tr>\n",
       "      <th>pay</th>\n",
       "      <td>3504</td>\n",
       "      <td>0</td>\n",
       "      <td>3504</td>\n",
       "    </tr>\n",
       "    <tr>\n",
       "      <th>default</th>\n",
       "      <td>696</td>\n",
       "      <td>0</td>\n",
       "      <td>696</td>\n",
       "    </tr>\n",
       "    <tr>\n",
       "      <th>Total</th>\n",
       "      <td>4200</td>\n",
       "      <td>0</td>\n",
       "      <td>4200</td>\n",
       "    </tr>\n",
       "  </tbody>\n",
       "</table>\n",
       "</div>"
      ],
      "text/plain": [
       "PREDICTION   pay  default  Total\n",
       "TRUE                            \n",
       "pay         3504        0   3504\n",
       "default      696        0    696\n",
       "Total       4200        0   4200"
      ]
     },
     "execution_count": 26,
     "metadata": {},
     "output_type": "execute_result"
    }
   ],
   "source": [
    "y_pred_test = np.repeat(y_train.value_counts().idxmax(), y_test.size)\n",
    "metrics.loc['accuracy','NULL'] = accuracy_score(y_pred=y_pred_test, y_true=y_test)\n",
    "metrics.loc['precision','NULL'] = precision_score(y_pred=y_pred_test, y_true=y_test)\n",
    "metrics.loc['recall','NULL'] = recall_score(y_pred=y_pred_test, y_true=y_test)\n",
    "\n",
    "CM = confusion_matrix(y_pred=y_pred_test, y_true=y_test)\n",
    "CMatrix(CM)"
   ]
  },
  {
   "cell_type": "markdown",
   "id": "abstract-crime",
   "metadata": {},
   "source": [
    "### A. Regresión logística"
   ]
  },
  {
   "cell_type": "code",
   "execution_count": 27,
   "id": "adjusted-solomon",
   "metadata": {},
   "outputs": [
    {
     "data": {
      "text/html": [
       "<div>\n",
       "<style scoped>\n",
       "    .dataframe tbody tr th:only-of-type {\n",
       "        vertical-align: middle;\n",
       "    }\n",
       "\n",
       "    .dataframe tbody tr th {\n",
       "        vertical-align: top;\n",
       "    }\n",
       "\n",
       "    .dataframe thead th {\n",
       "        text-align: right;\n",
       "    }\n",
       "</style>\n",
       "<table border=\"1\" class=\"dataframe\">\n",
       "  <thead>\n",
       "    <tr style=\"text-align: right;\">\n",
       "      <th>PREDICTION</th>\n",
       "      <th>pay</th>\n",
       "      <th>default</th>\n",
       "      <th>Total</th>\n",
       "    </tr>\n",
       "    <tr>\n",
       "      <th>TRUE</th>\n",
       "      <th></th>\n",
       "      <th></th>\n",
       "      <th></th>\n",
       "    </tr>\n",
       "  </thead>\n",
       "  <tbody>\n",
       "    <tr>\n",
       "      <th>pay</th>\n",
       "      <td>3410</td>\n",
       "      <td>94</td>\n",
       "      <td>3504</td>\n",
       "    </tr>\n",
       "    <tr>\n",
       "      <th>default</th>\n",
       "      <td>501</td>\n",
       "      <td>195</td>\n",
       "      <td>696</td>\n",
       "    </tr>\n",
       "    <tr>\n",
       "      <th>Total</th>\n",
       "      <td>3911</td>\n",
       "      <td>289</td>\n",
       "      <td>4200</td>\n",
       "    </tr>\n",
       "  </tbody>\n",
       "</table>\n",
       "</div>"
      ],
      "text/plain": [
       "PREDICTION   pay  default  Total\n",
       "TRUE                            \n",
       "pay         3410       94   3504\n",
       "default      501      195    696\n",
       "Total       3911      289   4200"
      ]
     },
     "execution_count": 27,
     "metadata": {},
     "output_type": "execute_result"
    }
   ],
   "source": [
    "# 1. Importar el objeto estimador (modelo)\n",
    "from sklearn.linear_model import LogisticRegression\n",
    "\n",
    "# 2. Crear una instancia del estimador\n",
    "logistic_regression = LogisticRegression(n_jobs=-1, random_state=15)\n",
    "\n",
    "# 3. Utilizar los datos de entrenamiento para entrenar el estimador\n",
    "logistic_regression.fit(X_train, y_train)\n",
    "\n",
    "# 4. Evaluar el modelo\n",
    "y_pred_test = logistic_regression.predict(X_test)\n",
    "metrics.loc['accuracy','LogisticReg'] = accuracy_score(y_pred=y_pred_test, y_true=y_test)\n",
    "metrics.loc['precision','LogisticReg'] = precision_score(y_pred=y_pred_test, y_true=y_test)\n",
    "metrics.loc['recall','LogisticReg'] = recall_score(y_pred=y_pred_test, y_true=y_test)\n",
    "# Matriz de confusión\n",
    "CM = confusion_matrix(y_pred=y_pred_test, y_true=y_test)\n",
    "CMatrix(CM)"
   ]
  },
  {
   "cell_type": "markdown",
   "id": "given-cinema",
   "metadata": {},
   "source": [
    "### B. Árboles de clasificación"
   ]
  },
  {
   "cell_type": "code",
   "execution_count": 28,
   "id": "small-conflict",
   "metadata": {},
   "outputs": [
    {
     "data": {
      "text/html": [
       "<div>\n",
       "<style scoped>\n",
       "    .dataframe tbody tr th:only-of-type {\n",
       "        vertical-align: middle;\n",
       "    }\n",
       "\n",
       "    .dataframe tbody tr th {\n",
       "        vertical-align: top;\n",
       "    }\n",
       "\n",
       "    .dataframe thead th {\n",
       "        text-align: right;\n",
       "    }\n",
       "</style>\n",
       "<table border=\"1\" class=\"dataframe\">\n",
       "  <thead>\n",
       "    <tr style=\"text-align: right;\">\n",
       "      <th>PREDICTION</th>\n",
       "      <th>pay</th>\n",
       "      <th>default</th>\n",
       "      <th>Total</th>\n",
       "    </tr>\n",
       "    <tr>\n",
       "      <th>TRUE</th>\n",
       "      <th></th>\n",
       "      <th></th>\n",
       "      <th></th>\n",
       "    </tr>\n",
       "  </thead>\n",
       "  <tbody>\n",
       "    <tr>\n",
       "      <th>pay</th>\n",
       "      <td>3283</td>\n",
       "      <td>221</td>\n",
       "      <td>3504</td>\n",
       "    </tr>\n",
       "    <tr>\n",
       "      <th>default</th>\n",
       "      <td>460</td>\n",
       "      <td>236</td>\n",
       "      <td>696</td>\n",
       "    </tr>\n",
       "    <tr>\n",
       "      <th>Total</th>\n",
       "      <td>3743</td>\n",
       "      <td>457</td>\n",
       "      <td>4200</td>\n",
       "    </tr>\n",
       "  </tbody>\n",
       "</table>\n",
       "</div>"
      ],
      "text/plain": [
       "PREDICTION   pay  default  Total\n",
       "TRUE                            \n",
       "pay         3283      221   3504\n",
       "default      460      236    696\n",
       "Total       3743      457   4200"
      ]
     },
     "execution_count": 28,
     "metadata": {},
     "output_type": "execute_result"
    }
   ],
   "source": [
    "# 1. Importar el objeto estimador (modelo)\n",
    "from sklearn.tree import DecisionTreeClassifier\n",
    "\n",
    "# 2. Crear una instancia del estimador\n",
    "class_tree = DecisionTreeClassifier(min_samples_split=30, min_samples_leaf=10, random_state=10)\n",
    "\n",
    "# 3. Utilizar los datos de entrenamiento para entrenar el estimador\n",
    "class_tree.fit(X_train, y_train)\n",
    "\n",
    "# 4. Evaluar el modelo\n",
    "y_pred_test = class_tree.predict(X_test)\n",
    "metrics.loc['accuracy','ClassTree'] = accuracy_score(y_pred=y_pred_test, y_true=y_test)\n",
    "metrics.loc['precision','ClassTree'] = precision_score(y_pred=y_pred_test, y_true=y_test)\n",
    "metrics.loc['recall','ClassTree'] = recall_score(y_pred=y_pred_test, y_true=y_test)\n",
    "# Matriz de confusión\n",
    "CM = confusion_matrix(y_pred=y_pred_test, y_true=y_test)\n",
    "CMatrix(CM)"
   ]
  },
  {
   "cell_type": "markdown",
   "id": "endless-acoustic",
   "metadata": {},
   "source": [
    "### C. Clasificador bayesiano ingenuo"
   ]
  },
  {
   "cell_type": "code",
   "execution_count": 30,
   "id": "broke-desire",
   "metadata": {},
   "outputs": [
    {
     "data": {
      "text/html": [
       "<div>\n",
       "<style scoped>\n",
       "    .dataframe tbody tr th:only-of-type {\n",
       "        vertical-align: middle;\n",
       "    }\n",
       "\n",
       "    .dataframe tbody tr th {\n",
       "        vertical-align: top;\n",
       "    }\n",
       "\n",
       "    .dataframe thead th {\n",
       "        text-align: right;\n",
       "    }\n",
       "</style>\n",
       "<table border=\"1\" class=\"dataframe\">\n",
       "  <thead>\n",
       "    <tr style=\"text-align: right;\">\n",
       "      <th>PREDICTION</th>\n",
       "      <th>pay</th>\n",
       "      <th>default</th>\n",
       "      <th>Total</th>\n",
       "    </tr>\n",
       "    <tr>\n",
       "      <th>TRUE</th>\n",
       "      <th></th>\n",
       "      <th></th>\n",
       "      <th></th>\n",
       "    </tr>\n",
       "  </thead>\n",
       "  <tbody>\n",
       "    <tr>\n",
       "      <th>pay</th>\n",
       "      <td>2959</td>\n",
       "      <td>545</td>\n",
       "      <td>3504</td>\n",
       "    </tr>\n",
       "    <tr>\n",
       "      <th>default</th>\n",
       "      <td>296</td>\n",
       "      <td>400</td>\n",
       "      <td>696</td>\n",
       "    </tr>\n",
       "    <tr>\n",
       "      <th>Total</th>\n",
       "      <td>3255</td>\n",
       "      <td>945</td>\n",
       "      <td>4200</td>\n",
       "    </tr>\n",
       "  </tbody>\n",
       "</table>\n",
       "</div>"
      ],
      "text/plain": [
       "PREDICTION   pay  default  Total\n",
       "TRUE                            \n",
       "pay         2959      545   3504\n",
       "default      296      400    696\n",
       "Total       3255      945   4200"
      ]
     },
     "execution_count": 30,
     "metadata": {},
     "output_type": "execute_result"
    }
   ],
   "source": [
    "# 1. Importar el objeto estimador (modelo)\n",
    "from sklearn.naive_bayes import GaussianNB\n",
    "\n",
    "# 2. Crear una instancia del estimador\n",
    "NBC = GaussianNB()\n",
    "\n",
    "# 3. Utilizar los datos de entrenamiento para entrenar el estimador\n",
    "NBC.fit(X_train, y_train)\n",
    "\n",
    "# 4. Evaluar el modelo\n",
    "y_pred_test = NBC.predict(X_test)\n",
    "metrics.loc['accuracy','NaiveBayes'] = accuracy_score(y_pred=y_pred_test, y_true=y_test)\n",
    "metrics.loc['precision','NaiveBayes'] = precision_score(y_pred=y_pred_test, y_true=y_test)\n",
    "metrics.loc['recall','NaiveBayes'] = recall_score(y_pred=y_pred_test, y_true=y_test)\n",
    "\n",
    "# Matriz de confusión\n",
    "CM = confusion_matrix(y_pred=y_pred_test, y_true=y_test)\n",
    "CMatrix(CM)"
   ]
  },
  {
   "cell_type": "code",
   "execution_count": 31,
   "id": "tribal-jason",
   "metadata": {},
   "outputs": [
    {
     "data": {
      "text/html": [
       "<div>\n",
       "<style scoped>\n",
       "    .dataframe tbody tr th:only-of-type {\n",
       "        vertical-align: middle;\n",
       "    }\n",
       "\n",
       "    .dataframe tbody tr th {\n",
       "        vertical-align: top;\n",
       "    }\n",
       "\n",
       "    .dataframe thead th {\n",
       "        text-align: right;\n",
       "    }\n",
       "</style>\n",
       "<table border=\"1\" class=\"dataframe\">\n",
       "  <thead>\n",
       "    <tr style=\"text-align: right;\">\n",
       "      <th></th>\n",
       "      <th>NULL</th>\n",
       "      <th>LogisticReg</th>\n",
       "      <th>ClassTree</th>\n",
       "      <th>NaiveBayes</th>\n",
       "    </tr>\n",
       "  </thead>\n",
       "  <tbody>\n",
       "    <tr>\n",
       "      <th>accuracy</th>\n",
       "      <td>83.428571</td>\n",
       "      <td>85.833333</td>\n",
       "      <td>83.785714</td>\n",
       "      <td>79.97619</td>\n",
       "    </tr>\n",
       "    <tr>\n",
       "      <th>precision</th>\n",
       "      <td>0.0</td>\n",
       "      <td>67.474048</td>\n",
       "      <td>51.641138</td>\n",
       "      <td>42.328042</td>\n",
       "    </tr>\n",
       "    <tr>\n",
       "      <th>recall</th>\n",
       "      <td>0.0</td>\n",
       "      <td>28.017241</td>\n",
       "      <td>33.908046</td>\n",
       "      <td>57.471264</td>\n",
       "    </tr>\n",
       "  </tbody>\n",
       "</table>\n",
       "</div>"
      ],
      "text/plain": [
       "                NULL LogisticReg  ClassTree NaiveBayes\n",
       "accuracy   83.428571   85.833333  83.785714   79.97619\n",
       "precision        0.0   67.474048  51.641138  42.328042\n",
       "recall           0.0   28.017241  33.908046  57.471264"
      ]
     },
     "execution_count": 31,
     "metadata": {},
     "output_type": "execute_result"
    }
   ],
   "source": [
    "100*metrics"
   ]
  },
  {
   "cell_type": "code",
   "execution_count": 32,
   "id": "discrete-maker",
   "metadata": {},
   "outputs": [
    {
     "data": {
      "image/png": "[encoded data removed]",
      "text/plain": [
       "<Figure size 576x360 with 1 Axes>"
      ]
     },
     "metadata": {
      "needs_background": "light"
     },
     "output_type": "display_data"
    }
   ],
   "source": [
    "fig, ax = plt.subplots(figsize=(8,5))\n",
    "metrics.plot(kind='barh', ax=ax)\n",
    "ax.grid();"
   ]
  },
  {
   "cell_type": "code",
   "execution_count": 33,
   "id": "moderate-bhutan",
   "metadata": {},
   "outputs": [],
   "source": [
    "precision_nb, recall_nb, thresholds_nb = precision_recall_curve(y_true=y_test, \n",
    "                                                                probas_pred=NBC.predict_proba(X_test)[:,1])\n",
    "precision_lr, recall_lr, thresholds_lr = precision_recall_curve(y_true=y_test, \n",
    "                                                                probas_pred=logistic_regression.predict_proba(X_test)[:,1])"
   ]
  },
  {
   "cell_type": "code",
   "execution_count": 34,
   "id": "improving-shower",
   "metadata": {},
   "outputs": [
    {
     "data": {
      "image/png": "[encoded data removed]",
      "text/plain": [
       "<Figure size 576x360 with 1 Axes>"
      ]
     },
     "metadata": {
      "needs_background": "light"
     },
     "output_type": "display_data"
    }
   ],
   "source": [
    "fig, ax = plt.subplots(figsize=(8,5))\n",
    "ax.plot(precision_nb, recall_nb, label='NaiveBayes')\n",
    "ax.plot(precision_lr, recall_lr, label='LogisticReg')\n",
    "ax.set_xlabel('Precision')\n",
    "ax.set_ylabel('Recall')\n",
    "ax.set_title('Precision-Recall Curve')\n",
    "ax.hlines(y=0.5, xmin=0, xmax=1, color='red')\n",
    "ax.legend()\n",
    "ax.grid();"
   ]
  },
  {
   "cell_type": "markdown",
   "id": "permanent-reservation",
   "metadata": {},
   "source": [
    "### Matriz de confusión para el clasificador de regresión logística modificado"
   ]
  },
  {
   "cell_type": "code",
   "execution_count": 36,
   "id": "burning-median",
   "metadata": {},
   "outputs": [
    {
     "data": {
      "image/png": "[encoded data removed]",
      "text/plain": [
       "<Figure size 576x360 with 1 Axes>"
      ]
     },
     "metadata": {
      "needs_background": "light"
     },
     "output_type": "display_data"
    }
   ],
   "source": [
    "fig, ax = plt.subplots(figsize=(8,5))\n",
    "ax.plot(thresholds_lr, precision_lr[1:], label='Precision')\n",
    "ax.plot(thresholds_lr, recall_lr[1:], label='Recall')\n",
    "ax.set_xlabel('Classification Threshold')\n",
    "ax.set_ylabel('Precision, Recall')\n",
    "ax.set_title('Logistic Regression Classifier: Precision-Recall')\n",
    "ax.hlines(y=0.6, xmin=0, xmax=1, color='red')\n",
    "ax.legend()\n",
    "ax.grid();"
   ]
  },
  {
   "cell_type": "markdown",
   "id": "tropical-behalf",
   "metadata": {},
   "source": [
    "### Clasificador con umbral de 0,2"
   ]
  },
  {
   "cell_type": "code",
   "execution_count": 38,
   "id": "expected-steel",
   "metadata": {},
   "outputs": [
    {
     "name": "stdout",
     "output_type": "stream",
     "text": [
      "Recall:  61.06321839080459\n",
      "Precision:  42.88597376387487\n"
     ]
    },
    {
     "data": {
      "text/html": [
       "<div>\n",
       "<style scoped>\n",
       "    .dataframe tbody tr th:only-of-type {\n",
       "        vertical-align: middle;\n",
       "    }\n",
       "\n",
       "    .dataframe tbody tr th {\n",
       "        vertical-align: top;\n",
       "    }\n",
       "\n",
       "    .dataframe thead th {\n",
       "        text-align: right;\n",
       "    }\n",
       "</style>\n",
       "<table border=\"1\" class=\"dataframe\">\n",
       "  <thead>\n",
       "    <tr style=\"text-align: right;\">\n",
       "      <th>PREDICTION</th>\n",
       "      <th>pay</th>\n",
       "      <th>default</th>\n",
       "      <th>Total</th>\n",
       "    </tr>\n",
       "    <tr>\n",
       "      <th>TRUE</th>\n",
       "      <th></th>\n",
       "      <th></th>\n",
       "      <th></th>\n",
       "    </tr>\n",
       "  </thead>\n",
       "  <tbody>\n",
       "    <tr>\n",
       "      <th>pay</th>\n",
       "      <td>2938</td>\n",
       "      <td>566</td>\n",
       "      <td>3504</td>\n",
       "    </tr>\n",
       "    <tr>\n",
       "      <th>default</th>\n",
       "      <td>271</td>\n",
       "      <td>425</td>\n",
       "      <td>696</td>\n",
       "    </tr>\n",
       "    <tr>\n",
       "      <th>Total</th>\n",
       "      <td>3209</td>\n",
       "      <td>991</td>\n",
       "      <td>4200</td>\n",
       "    </tr>\n",
       "  </tbody>\n",
       "</table>\n",
       "</div>"
      ],
      "text/plain": [
       "PREDICTION   pay  default  Total\n",
       "TRUE                            \n",
       "pay         2938      566   3504\n",
       "default      271      425    696\n",
       "Total       3209      991   4200"
      ]
     },
     "execution_count": 38,
     "metadata": {},
     "output_type": "execute_result"
    }
   ],
   "source": [
    "y_pred_proba = logistic_regression.predict_proba(X_test)[:,1]\n",
    "y_pred_test = (y_pred_proba >= 0.2).astype('int')\n",
    "#Confusion matrix\n",
    "CM = confusion_matrix(y_pred=y_pred_test, y_true=y_test)\n",
    "print(\"Recall: \", 100*recall_score(y_pred=y_pred_test, y_true=y_test))\n",
    "print(\"Precision: \", 100*precision_score(y_pred=y_pred_test, y_true=y_test))\n",
    "CMatrix(CM)"
   ]
  },
  {
   "cell_type": "markdown",
   "id": "sporting-treasury",
   "metadata": {},
   "source": [
    "### Hacer predicciones individuales"
   ]
  },
  {
   "cell_type": "code",
   "execution_count": 39,
   "id": "alert-auckland",
   "metadata": {},
   "outputs": [],
   "source": [
    "def make_ind_prediction(new_data):\n",
    "    data = new_data.values.reshape(1, -1)\n",
    "    data = robust_scaler.transform(data)\n",
    "    prob = logistic_regression.predict_proba(data)[0][1]\n",
    "    if prob >= 0.2:\n",
    "        return 'Incumplirá'\n",
    "    else:\n",
    "        return 'Pagará'"
   ]
  },
  {
   "cell_type": "code",
   "execution_count": 40,
   "id": "constitutional-worship",
   "metadata": {},
   "outputs": [
    {
     "data": {
      "text/plain": [
       "'Incumplirá'"
      ]
     },
     "execution_count": 40,
     "metadata": {},
     "output_type": "execute_result"
    }
   ],
   "source": [
    "from collections import OrderedDict\n",
    "new_customer = OrderedDict([('id', 17720),('limit_bal', 240000),('age', 50 ),('bill_amt1', 978),\n",
    "                            ('bill_amt2', 193 ),('bill_amt3', 386 ),('bill_amt4', 579 ),\n",
    "                            ('bill_amt5', 386 ),('bill_amt6', 193 ), ('pay_amt1', 193 ),('pay_amt2', 386 ),\n",
    "                            ('pay_amt3', 386 ),('pay_amt4', 0 ),('pay_amt5', 0 ), ('pay_amt6', 536 ),\n",
    "                            ('hombre', 2 ),('graduado_de_secundaria', 1 ),('universidad', 0 ), ('secundaria', 0 ),\n",
    "                            ('casado', 1 ),('pay_1', -1 ),('pay_2', -1 ),('pay_3', -1 ),\n",
    "                            ('pay_4', 2),('pay_5', 0), ('pay_6', 0)])\n",
    "\n",
    "new_customer = pd.Series(new_customer)\n",
    "make_ind_prediction(new_customer)"
   ]
  },
  {
   "cell_type": "code",
   "execution_count": null,
   "id": "imperial-aggregate",
   "metadata": {},
   "outputs": [],
   "source": []
  }
 ],
 "metadata": {
  "kernelspec": {
   "display_name": "Python 3",
   "language": "python",
   "name": "python3"
  },
  "language_info": {
   "codemirror_mode": {
    "name": "ipython",
    "version": 3
   },
   "file_extension": ".py",
   "mimetype": "text/x-python",
   "name": "python",
   "nbconvert_exporter": "python",
   "pygments_lexer": "ipython3",
   "version": "3.9.1"
  }
 },
 "nbformat": 4,
 "nbformat_minor": 5
}
